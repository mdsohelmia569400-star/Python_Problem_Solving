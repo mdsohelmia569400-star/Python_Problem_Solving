{
  "cells": [
    {
      "cell_type": "markdown",
      "metadata": {
        "id": "lHFiDS9mewpO"
      },
      "source": [
        "1. Current DateTime Display\n",
        "\n",
        "Write a Python program to display the current date and time.\n",
        "\n",
        "Sample Output :\n",
        "\n",
        "Current date and time :\n",
        "\n",
        "2014-07-05 14:34:14"
      ]
    },
    {
      "cell_type": "code",
      "execution_count": null,
      "metadata": {
        "colab": {
          "base_uri": "https://localhost:8080/"
        },
        "id": "rKhlf9vqencr",
        "outputId": "ecd5ca5d-365c-4d48-aff4-affe31716cf3"
      },
      "outputs": [
        {
          "name": "stdout",
          "output_type": "stream",
          "text": [
            "Current date and time :\n",
            "2025-08-27 04:06:40\n"
          ]
        }
      ],
      "source": [
        "# Import the datetime module\n",
        "import datetime\n",
        "\n",
        "# Get the current date and time\n",
        "now = datetime.datetime.now()  # now() returns the current date and time\n",
        "\n",
        "# Print the date and time\n",
        "print(\"Current date and time :\")\n",
        "print(now.strftime(\"%Y-%m-%d %H:%M:%S\"))  # strftime formats the output"
      ]
    },
    {
      "cell_type": "markdown",
      "metadata": {
        "id": "wEWA7MVVfWYt"
      },
      "source": [
        "2. Circle Area Calculator\n",
        "\n",
        "Write a Python program that calculates the area of a circle based on the\n",
        "radius entered by the user.\n",
        "\n",
        "Sample Output :\n",
        "\n",
        "r = 1.1\n",
        "\n",
        "Area = 3.8013271108436504"
      ]
    },
    {
      "cell_type": "code",
      "execution_count": null,
      "metadata": {
        "colab": {
          "base_uri": "https://localhost:8080/"
        },
        "id": "Q-3u5yPGfVoF",
        "outputId": "f7daf4fa-e568-4a1b-a518-ecb3d4f3148a"
      },
      "outputs": [
        {
          "name": "stdout",
          "output_type": "stream",
          "text": [
            "Enter the radius of the circle: 1.1\n",
            "r = 1.1\n",
            "Area = 3.8013271108436504\n"
          ]
        }
      ],
      "source": [
        "import math\n",
        "\n",
        "# Get radius input from the user\n",
        "radius = float(input(\"Enter the radius of the circle: \"))\n",
        "\n",
        "# Calculate the area of the circle\n",
        "area = math.pi * radius ** 2  # Area = π * r^2\n",
        "\n",
        "# Display the result\n",
        "print(\"r =\", radius)\n",
        "print(\"Area =\", area)"
      ]
    },
    {
      "cell_type": "markdown",
      "metadata": {
        "id": "ZYwYwalDglsJ"
      },
      "source": [
        "3. Reverse Full Name\n",
        "\n",
        "Write a Python program that accepts the user's first and last name and prints\n",
        "them in reverse order with a space between them."
      ]
    },
    {
      "cell_type": "code",
      "execution_count": null,
      "metadata": {
        "colab": {
          "base_uri": "https://localhost:8080/"
        },
        "id": "V_ahbPX5fUEO",
        "outputId": "bb93c3c4-2b32-4119-d5a0-968dbb46c9d0"
      },
      "outputs": [
        {
          "name": "stdout",
          "output_type": "stream",
          "text": [
            "Enter your first name: md.\n",
            "Enter your last name: Shohel\n",
            "Reversed Name: Shohel md.\n"
          ]
        }
      ],
      "source": [
        "# Get first name input from the user\n",
        "first_name = input(\"Enter your first name: \")\n",
        "\n",
        "# Get last name input from the user\n",
        "last_name = input(\"Enter your last name: \")\n",
        "\n",
        "# Print names in reverse order with a space\n",
        "print(\"Reversed Name:\", last_name + \" \" + first_name)"
      ]
    },
    {
      "cell_type": "markdown",
      "metadata": {
        "id": "1MQ4VNu_hNYV"
      },
      "source": [
        "4. List and Tuple Generator\n",
        "\n",
        "Write a Python program that accepts a sequence of comma-separated numbers from the user and generates a list and a tuple of those numbers.\n",
        "\n",
        "Sample data : 3, 5, 7, 23\n",
        "\n",
        "Output :\n",
        "\n",
        "List : ['3', ' 5', ' 7', ' 23']\n",
        "\n",
        "Tuple : ('3', ' 5', ' 7', ' 23')"
      ]
    },
    {
      "cell_type": "code",
      "execution_count": null,
      "metadata": {
        "colab": {
          "base_uri": "https://localhost:8080/"
        },
        "id": "Ah7-bdNphSHl",
        "outputId": "ab987238-d76b-4911-cb3d-88ac2252fba9"
      },
      "outputs": [
        {
          "name": "stdout",
          "output_type": "stream",
          "text": [
            "Enter comma-separated numbers: 1,2,3,4,5,6\n",
            "List : ['1', '2', '3', '4', '5', '6']\n",
            "Tuple : ('1', '2', '3', '4', '5', '6')\n"
          ]
        }
      ],
      "source": [
        "# Accept input from the user as a comma-separated string\n",
        "data = input(\"Enter comma-separated numbers: \")\n",
        "\n",
        "# Generate a list by splitting the input string at commas\n",
        "list_data = data.split(',')\n",
        "\n",
        "# Generate a tuple from the same list\n",
        "tuple_data = tuple(list_data)\n",
        "\n",
        "# Display the list and tuple\n",
        "print(\"List :\", list_data)\n",
        "print(\"Tuple :\", tuple_data)"
      ]
    },
    {
      "cell_type": "markdown",
      "metadata": {
        "id": "ptB1_0vphuMO"
      },
      "source": [
        "5. File Extension Extractor\n",
        "\n",
        "Write a Python program that accepts a filename from the user and prints the extension of the file.\n",
        "\n",
        "Sample filename : abc.java\n",
        "\n",
        "Output : java\n"
      ]
    },
    {
      "cell_type": "code",
      "execution_count": null,
      "metadata": {
        "colab": {
          "base_uri": "https://localhost:8080/"
        },
        "id": "vd_SoN9ZhnRV",
        "outputId": "a94a82d7-eed8-432f-de79-158c11f6bc4a"
      },
      "outputs": [
        {
          "name": "stdout",
          "output_type": "stream",
          "text": [
            "Enter the filename: abc.jaba\n",
            "File extension: jaba\n"
          ]
        }
      ],
      "source": [
        "# Accept filename input from the user\n",
        "filename = input(\"Enter the filename: \")\n",
        "\n",
        "# Split the filename at the last dot and get the extension\n",
        "file_extension = filename.split('.')[-1]\n",
        "\n",
        "# Display the file extension\n",
        "print(\"File extension:\", file_extension)"
      ]
    },
    {
      "cell_type": "markdown",
      "metadata": {
        "id": "Bt0ozuyUiTvV"
      },
      "source": [
        " 6. First and Last Colors\n",
        "\n",
        "Write a Python program to display the first and last colors from the following list.\n",
        "\n",
        "color_list = [\"Red\",\"Green\",\"White\" ,\"Black\"]"
      ]
    },
    {
      "cell_type": "code",
      "execution_count": null,
      "metadata": {
        "colab": {
          "base_uri": "https://localhost:8080/"
        },
        "id": "Hk-eXo9siN6k",
        "outputId": "55d13428-d7a6-4a0b-988a-f3c8edd06f22"
      },
      "outputs": [
        {
          "name": "stdout",
          "output_type": "stream",
          "text": [
            "First color: Red\n",
            "Last color: Black\n"
          ]
        }
      ],
      "source": [
        "# Define the color list\n",
        "color_list = [\"Red\", \"Green\", \"White\", \"Black\"]\n",
        "\n",
        "# Get the first color (index 0)\n",
        "first_color = color_list[0]\n",
        "\n",
        "# Get the last color (index -1)\n",
        "last_color = color_list[-1]\n",
        "\n",
        "# Display the first and last colors\n",
        "print(\"First color:\", first_color)\n",
        "print(\"Last color:\", last_color)"
      ]
    },
    {
      "cell_type": "markdown",
      "metadata": {
        "id": "oHCbIVIlikJ9"
      },
      "source": [
        " 7. Exam Schedule Formatter\n",
        "\n",
        "Write a Python program to display the examination schedule. (extract the date from exam_st_date).\n",
        "\n",
        "exam_st_date = (11, 12, 2014)\n",
        "\n",
        "Sample Output : The examination will start from : 11 / 12 / 2014"
      ]
    },
    {
      "cell_type": "code",
      "execution_count": null,
      "metadata": {
        "colab": {
          "base_uri": "https://localhost:8080/"
        },
        "id": "98IVymwOmXYN",
        "outputId": "53e2fdf1-efc2-4062-b236-c6ff63132fc0"
      },
      "outputs": [
        {
          "name": "stdout",
          "output_type": "stream",
          "text": [
            "The examination will start from : 11 / 12 / 2014\n"
          ]
        }
      ],
      "source": [
        "#Define the exam start date\n",
        "exam_st_date = (11, 12, 2014)\n",
        "\n",
        "# Extract day, month, and year\n",
        "day, month, year = exam_st_date\n",
        "\n",
        "# Display the examination schedule\n",
        "print(\"The examination will start from :\", day, \"/\", month, \"/\", year)"
      ]
    },
    {
      "cell_type": "markdown",
      "metadata": {
        "id": "TzzguN3kn9pk"
      },
      "source": [
        "8. Number Expansion Calculator\n",
        "\n",
        "Write a Python program that accepts an integer (n) and computes the value of n+nn+nnn.\n",
        "\n",
        "Sample value of n is 5\n",
        "\n",
        "Expected Result : 615"
      ]
    },
    {
      "cell_type": "code",
      "execution_count": null,
      "metadata": {
        "colab": {
          "base_uri": "https://localhost:8080/"
        },
        "id": "B_z5PhLHn9Md",
        "outputId": "f8c5fc96-3d96-4cfb-ca8a-a9e78d6500af"
      },
      "outputs": [
        {
          "name": "stdout",
          "output_type": "stream",
          "text": [
            "Enter an integer: 5\n",
            "Result: 615\n"
          ]
        }
      ],
      "source": [
        "# Input from user\n",
        "n = input(\"Enter an integer: \")\n",
        "\n",
        "# Calculate n + nn + nnn\n",
        "result = int(n) + int(n*2) + int(n*3)\n",
        "\n",
        "# Display the result\n",
        "print(\"Result:\", result)"
      ]
    },
    {
      "cell_type": "markdown",
      "metadata": {
        "id": "PK8cUNauoTHN"
      },
      "source": [
        "9. Function Documentation Printer\n",
        "\n",
        "Write a Python program to print the documents (syntax, description etc.) of Python built-in function(s).\n",
        "\n",
        "Sample function : abs()\n",
        "\n",
        "Expected Result :\n",
        "\n",
        "abs(number) -> number\n",
        "\n",
        "Return the absolute value of the argument."
      ]
    },
    {
      "cell_type": "code",
      "execution_count": null,
      "metadata": {
        "colab": {
          "base_uri": "https://localhost:8080/"
        },
        "id": "_81_yN3rifIw",
        "outputId": "3858c38d-445b-49c9-8bae-85926f2fcd75"
      },
      "outputs": [
        {
          "name": "stdout",
          "output_type": "stream",
          "text": [
            "Documentation for abs():\n",
            "Return the absolute value of the argument.\n"
          ]
        }
      ],
      "source": [
        "# Display documentation of the abs() function\n",
        "print(\"Documentation for abs():\")\n",
        "print(abs.__doc__)"
      ]
    },
    {
      "cell_type": "markdown",
      "metadata": {
        "id": "iUm8_SVYou7l"
      },
      "source": [
        "10. Monthly Calendar Display\n",
        "\n",
        "Write a Python program that prints the calendar for a given month and year.\n",
        "\n",
        "Note : Use 'calendar' module."
      ]
    },
    {
      "cell_type": "code",
      "execution_count": null,
      "metadata": {
        "colab": {
          "base_uri": "https://localhost:8080/"
        },
        "id": "JDhqVFf9ifEe",
        "outputId": "51ce5ca9-b64b-4ce3-84ce-a60628c9319b"
      },
      "outputs": [
        {
          "name": "stdout",
          "output_type": "stream",
          "text": [
            "Enter year (YYYY): 2025\n",
            "Enter month (1-12): 8\n",
            "\n",
            "Calendar for 8 / 2025 :\n",
            "\n",
            "    August 2025\n",
            "Mo Tu We Th Fr Sa Su\n",
            "             1  2  3\n",
            " 4  5  6  7  8  9 10\n",
            "11 12 13 14 15 16 17\n",
            "18 19 20 21 22 23 24\n",
            "25 26 27 28 29 30 31\n",
            "\n"
          ]
        }
      ],
      "source": [
        "import calendar\n",
        "\n",
        "# Input year and month from user\n",
        "year = int(input(\"Enter year (YYYY): \"))\n",
        "month = int(input(\"Enter month (1-12): \"))\n",
        "\n",
        "# Display the calendar for the given month and year\n",
        "print(\"\\nCalendar for\", month, \"/\", year, \":\\n\")\n",
        "print(calendar.month(year, month))"
      ]
    },
    {
      "cell_type": "markdown",
      "metadata": {
        "id": "WnFzoIHRpRDk"
      },
      "source": [
        "11. 13. Multi-line Here Document\n",
        "\n",
        "Write a Python program to print the following 'here document'.\n",
        "\n",
        "Sample string :\n",
        "\n",
        "a string that you \"don't\" have to escape\n",
        "This\n",
        "\n",
        "is a ....... multi-line\n",
        "\n",
        "heredoc string --------> example"
      ]
    },
    {
      "cell_type": "code",
      "execution_count": null,
      "metadata": {
        "colab": {
          "base_uri": "https://localhost:8080/"
        },
        "id": "204m66bTie62",
        "outputId": "9dd9bdde-711c-48b4-94d4-d6c11f998933"
      },
      "outputs": [
        {
          "name": "stdout",
          "output_type": "stream",
          "text": [
            "a string that you \"don't\" have to escape\n",
            "This\n",
            "is a ....... multi-line\n",
            "heredoc string --------> example\n"
          ]
        }
      ],
      "source": [
        "# Define the multi-line string using triple quotes\n",
        "heredoc = \"\"\"a string that you \"don't\" have to escape\n",
        "This\n",
        "is a ....... multi-line\n",
        "heredoc string --------> example\"\"\"\n",
        "\n",
        "# Display the string\n",
        "print(heredoc)"
      ]
    },
    {
      "cell_type": "markdown",
      "metadata": {
        "id": "WLGFp9fspfyl"
      },
      "source": [
        "12. Write a Python program to calculate the number of days between two dates.\n",
        "\n",
        "Sample dates : (2014, 7, 2), (2014, 7, 11)\n",
        "\n",
        "Expected output : 9 days"
      ]
    },
    {
      "cell_type": "code",
      "execution_count": null,
      "metadata": {
        "colab": {
          "base_uri": "https://localhost:8080/"
        },
        "id": "wryq-LGNpfe9",
        "outputId": "97f2fb6c-71b8-4565-d028-a1a8bc1b880d"
      },
      "outputs": [
        {
          "name": "stdout",
          "output_type": "stream",
          "text": [
            "Number of days between dates: 9 days\n"
          ]
        }
      ],
      "source": [
        "from datetime import date\n",
        "\n",
        "# Define the two dates\n",
        "date1 = date(2014, 7, 2)\n",
        "date2 = date(2014, 7, 11)\n",
        "\n",
        "# Calculate the difference\n",
        "delta = date2 - date1\n",
        "\n",
        "# Display the number of days\n",
        "print(\"Number of days between dates:\", delta.days, \"days\")"
      ]
    },
    {
      "cell_type": "markdown",
      "metadata": {
        "id": "c_cmMUp3qB1d"
      },
      "source": [
        "13. Sphere Volume Calculator\n",
        "\n",
        "Write a Python program to get the volume of a sphere with radius six."
      ]
    },
    {
      "cell_type": "code",
      "execution_count": null,
      "metadata": {
        "colab": {
          "base_uri": "https://localhost:8080/"
        },
        "id": "FmGOpgqipyal",
        "outputId": "84ddf303-3702-467c-ceb5-cee0cd86c99a"
      },
      "outputs": [
        {
          "name": "stdout",
          "output_type": "stream",
          "text": [
            "Volume of the sphere with radius 6: 904.7786842338603\n"
          ]
        }
      ],
      "source": [
        "import math\n",
        "\n",
        "# Define the radius\n",
        "radius = 6\n",
        "\n",
        "# Calculate the volume of the sphere\n",
        "volume = (4/3) * math.pi * radius**3\n",
        "\n",
        "# Display the volume\n",
        "print(\"Volume of the sphere with radius 6:\", volume)"
      ]
    },
    {
      "cell_type": "markdown",
      "metadata": {
        "id": "tekCPRA5qWbV"
      },
      "source": [
        "14.Number Range Tester\n",
        "\n",
        "Write a Python program to test whether a number is within 100 of 1000 or 2000."
      ]
    },
    {
      "cell_type": "code",
      "execution_count": null,
      "metadata": {
        "colab": {
          "base_uri": "https://localhost:8080/"
        },
        "id": "B3NGLILzpdWd",
        "outputId": "fa982fb3-3915-4596-c5b9-38b060361368"
      },
      "outputs": [
        {
          "name": "stdout",
          "output_type": "stream",
          "text": [
            "Enter a number: 950\n",
            "Is the number within 100 of 1000 or 2000?: True\n"
          ]
        }
      ],
      "source": [
        "# Problem 17: Number Range Tester\n",
        "# Write a Python program to test whether a number is within 100 of 1000 or 2000.\n",
        "\n",
        "# Input number from user\n",
        "num = int(input(\"Enter a number: \"))\n",
        "\n",
        "# Test if the number is within 100 of 1000 or 2000\n",
        "within_range = abs(1000 - num) <= 100 or abs(2000 - num) <= 100\n",
        "\n",
        "# Display the result\n",
        "print(\"Is the number within 100 of 1000 or 2000?:\", within_range)\n"
      ]
    },
    {
      "cell_type": "markdown",
      "metadata": {
        "id": "MBXX06rFqzAd"
      },
      "source": [
        "15. Even or Odd Checker\n",
        "\n",
        "Write a Python program that determines whether a given number (accepted from the user) is even or odd, and prints an appropriate message to the user."
      ]
    },
    {
      "cell_type": "code",
      "execution_count": null,
      "metadata": {
        "colab": {
          "base_uri": "https://localhost:8080/"
        },
        "id": "uQWNjxb8pdR7",
        "outputId": "4affaac8-0b80-48bb-f849-cc26a17d05f7"
      },
      "outputs": [
        {
          "name": "stdout",
          "output_type": "stream",
          "text": [
            "Enter a number: 5\n",
            "The number 5 is Odd.\n"
          ]
        }
      ],
      "source": [
        "# Input number from user\n",
        "num = int(input(\"Enter a number: \"))\n",
        "\n",
        "# Check if the number is even or odd\n",
        "if num % 2 == 0:\n",
        "    print(\"The number\", num, \"is Even.\")\n",
        "else:\n",
        "    print(\"The number\", num, \"is Odd.\")"
      ]
    },
    {
      "cell_type": "markdown",
      "metadata": {
        "id": "IshgRqqOxeV5"
      },
      "source": [
        "16. String Prefix Copies\n",
        "\n",
        "Write a Python program to get n (non-negative integer) copies of the first 2 characters of a given string. Return n copies of the whole string if the length is less than 2."
      ]
    },
    {
      "cell_type": "code",
      "execution_count": null,
      "metadata": {
        "colab": {
          "base_uri": "https://localhost:8080/"
        },
        "id": "yCFAFQB8pdPO",
        "outputId": "52b77c6a-5b02-475b-a9f5-2946843ab1a0"
      },
      "outputs": [
        {
          "name": "stdout",
          "output_type": "stream",
          "text": [
            "Enter a string: aaa\n",
            "Enter number of copies: 2\n",
            "Resulting string: aaaa\n"
          ]
        }
      ],
      "source": [
        "# Input string and number of copies\n",
        "s = input(\"Enter a string: \")\n",
        "n = int(input(\"Enter number of copies: \"))\n",
        "\n",
        "# Determine the prefix to repeat\n",
        "prefix = s[:2] if len(s) >= 2 else s\n",
        "\n",
        "# Display the result\n",
        "result = prefix * n\n",
        "print(\"Resulting string:\", result)"
      ]
    },
    {
      "cell_type": "markdown",
      "metadata": {
        "id": "B-AcOVHY1c-M"
      },
      "source": [
        "17.Vowel Tester\n",
        "\n",
        "Write a Python program to test whether a passed letter is a vowel or not."
      ]
    },
    {
      "cell_type": "code",
      "execution_count": null,
      "metadata": {
        "colab": {
          "base_uri": "https://localhost:8080/"
        },
        "id": "khKAS9cXpdMV",
        "outputId": "e42932aa-f93e-4f15-bdac-f672b70bb081"
      },
      "outputs": [
        {
          "name": "stdout",
          "output_type": "stream",
          "text": [
            "Enter a single letter: b\n",
            "b is not a vowel.\n"
          ]
        }
      ],
      "source": [
        "# Input a letter from user\n",
        "letter = input(\"Enter a single letter: \").lower()\n",
        "\n",
        "# Check if the letter is a vowel\n",
        "if letter in 'aeiou':\n",
        "    print(letter, \"is a vowel.\")\n",
        "else:\n",
        "    print(letter, \"is not a vowel.\")"
      ]
    },
    {
      "cell_type": "markdown",
      "metadata": {
        "id": "X7-3n9HY15J7"
      },
      "source": [
        "18. Triangle Area Calculator\n",
        "\n",
        "Write a Python program that will accept the base and height of a triangle and compute its area."
      ]
    },
    {
      "cell_type": "code",
      "execution_count": null,
      "metadata": {
        "colab": {
          "base_uri": "https://localhost:8080/"
        },
        "id": "6o9np2A0pdJd",
        "outputId": "76fecd5e-7c2e-4543-91ef-6ba97cfda455"
      },
      "outputs": [
        {
          "name": "stdout",
          "output_type": "stream",
          "text": [
            "Enter the base of the triangle: 6\n",
            "Enter the height of the triangle: 3\n",
            "Area of the triangle: 9.0\n"
          ]
        }
      ],
      "source": [
        "# Input base and height from user\n",
        "base = float(input(\"Enter the base of the triangle: \"))\n",
        "height = float(input(\"Enter the height of the triangle: \"))\n",
        "\n",
        "# Calculate the area\n",
        "area = 0.5 * base * height\n",
        "\n",
        "# Display the area\n",
        "print(\"Area of the triangle:\", area)"
      ]
    },
    {
      "cell_type": "markdown",
      "metadata": {
        "id": "eXYycE8i2Gcl"
      },
      "source": [
        "20. Conditional Sum to 20\n",
        "\n",
        "Write a Python program to sum two given integers. However, if the sum is between 15 and 20 it will return 20."
      ]
    },
    {
      "cell_type": "code",
      "execution_count": null,
      "metadata": {
        "colab": {
          "base_uri": "https://localhost:8080/"
        },
        "id": "OBDC14tZ2GIb",
        "outputId": "24923a80-bdcd-4093-f511-be8b494fa674"
      },
      "outputs": [
        {
          "name": "stdout",
          "output_type": "stream",
          "text": [
            "Enter first integer: 16\n",
            "Enter second integer: 10\n",
            "Result: 26\n"
          ]
        }
      ],
      "source": [
        "# Input two integers from user\n",
        "a = int(input(\"Enter first integer: \"))\n",
        "b = int(input(\"Enter second integer: \"))\n",
        "\n",
        "# Calculate sum\n",
        "sum_ab = a + b\n",
        "\n",
        "# Apply the condition\n",
        "if 15 <= sum_ab <= 20:\n",
        "    sum_ab = 20\n",
        "\n",
        "# Display the result\n",
        "print(\"Result:\", sum_ab)"
      ]
    },
    {
      "cell_type": "markdown",
      "metadata": {
        "id": "3FrwBCsn2hvF"
      },
      "source": [
        "21. Personal Info Formatter\n",
        "\n",
        "Write a Python program that displays your name, age, and address on three different lines."
      ]
    },
    {
      "cell_type": "code",
      "execution_count": null,
      "metadata": {
        "colab": {
          "base_uri": "https://localhost:8080/"
        },
        "id": "xW35Tijq2GFu",
        "outputId": "45925c48-1924-48a8-cb42-0d0c01a97a71"
      },
      "outputs": [
        {
          "name": "stdout",
          "output_type": "stream",
          "text": [
            "Name: Md. Sohel Mia\n",
            "Age: 23\n",
            "Address: Mohammadpur, Dhaka\n"
          ]
        }
      ],
      "source": [
        "# Define personal information\n",
        "name = \"Md. Sohel Mia\"\n",
        "age = 23\n",
        "address = \"Mohammadpur, Dhaka\"\n",
        "\n",
        "# Display information on separate lines\n",
        "print(\"Name:\", name)\n",
        "print(\"Age:\", age)\n",
        "print(\"Address:\", address)"
      ]
    },
    {
      "cell_type": "markdown",
      "metadata": {
        "id": "mCtDP-6D2ugQ"
      },
      "source": [
        "22. Expression Solver\n",
        "\n",
        "Write a Python program to solve (x + y) * (x + y).\n",
        "\n",
        "Test Data : x = 4, y = 3\n",
        "\n",
        "Expected Output : (4 + 3) ^ 2) = 49"
      ]
    },
    {
      "cell_type": "code",
      "execution_count": null,
      "metadata": {
        "colab": {
          "base_uri": "https://localhost:8080/"
        },
        "id": "kiOpbThX2GC0",
        "outputId": "2a063bac-c24d-47e5-a241-1668976c4be9"
      },
      "outputs": [
        {
          "name": "stdout",
          "output_type": "stream",
          "text": [
            "(4 + 3) ^ 2 = 49\n"
          ]
        }
      ],
      "source": [
        "# Define variables\n",
        "x = 4\n",
        "y = 3\n",
        "\n",
        "# Calculate the expression\n",
        "result = (x + y) ** 2  # (x + y) squared\n",
        "\n",
        "# Display the result\n",
        "print(f\"({x} + {y}) ^ 2 = {result}\")"
      ]
    },
    {
      "cell_type": "markdown",
      "metadata": {
        "id": "rbVfu4dv3FiV"
      },
      "source": [
        "23. Future Value Calculator\n",
        "\n",
        "Write a Python program to compute the future value of a specified principal amount, rate of interest, and number of years.\n",
        "\n",
        "Test Data : amt = 10000, int = 3.5, years = 7\n",
        "\n",
        "Expected Output : 12722.79"
      ]
    },
    {
      "cell_type": "code",
      "execution_count": null,
      "metadata": {
        "colab": {
          "base_uri": "https://localhost:8080/"
        },
        "id": "1Oh5FPsu3FE8",
        "outputId": "80c01dc1-daea-40bb-f86f-abd5cfb47390"
      },
      "outputs": [
        {
          "name": "stdout",
          "output_type": "stream",
          "text": [
            "Future Value: 12722.79\n"
          ]
        }
      ],
      "source": [
        "# Define variables\n",
        "principal = 10000\n",
        "rate = 3.5  # in percent\n",
        "years = 7\n",
        "\n",
        "# Calculate future value using simple interest formula\n",
        "# Future Value = Principal * (1 + rate/100) ** years\n",
        "future_value = principal * (1 + rate/100) ** years\n",
        "\n",
        "# Display the result rounded to 2 decimal places\n",
        "print(\"Future Value:\", round(future_value, 2))"
      ]
    },
    {
      "cell_type": "markdown",
      "metadata": {
        "id": "dcSlz6FD3qR1"
      },
      "source": [
        "24. Get Current Username\n",
        "\n",
        "Write a Python program to get the current username."
      ]
    },
    {
      "cell_type": "code",
      "execution_count": null,
      "metadata": {
        "colab": {
          "base_uri": "https://localhost:8080/"
        },
        "id": "1ojq1_yR3QIU",
        "outputId": "a4af9c8f-44e9-4aac-849e-763382697467"
      },
      "outputs": [
        {
          "name": "stdout",
          "output_type": "stream",
          "text": [
            "Current Username: root\n"
          ]
        }
      ],
      "source": [
        "import getpass\n",
        "\n",
        "# Get the current username\n",
        "username = getpass.getuser()\n",
        "\n",
        "# Display the username\n",
        "print(\"Current Username:\", username)"
      ]
    },
    {
      "cell_type": "markdown",
      "metadata": {
        "id": "fP-2VHlR4FoV"
      },
      "source": [
        "25. Find Local IPs\n",
        "\n",
        "Write a Python program to find local IP addresses using Python's stdlib."
      ]
    },
    {
      "cell_type": "code",
      "execution_count": null,
      "metadata": {
        "colab": {
          "base_uri": "https://localhost:8080/"
        },
        "id": "zsRljXfA2F_u",
        "outputId": "b487d249-919e-4922-cb6a-4c792d4e0b55"
      },
      "outputs": [
        {
          "name": "stdout",
          "output_type": "stream",
          "text": [
            "Hostname: bed245585ace\n",
            "Local IP Address: 172.28.0.12\n"
          ]
        }
      ],
      "source": [
        "import socket\n",
        "\n",
        "# Get the hostname\n",
        "hostname = socket.gethostname()\n",
        "\n",
        "# Get the local IP address\n",
        "local_ip = socket.gethostbyname(hostname)\n",
        "\n",
        "# Display the hostname and IP\n",
        "print(\"Hostname:\", hostname)\n",
        "print(\"Local IP Address:\", local_ip)"
      ]
    },
    {
      "cell_type": "markdown",
      "metadata": {
        "id": "LABlCk904XyE"
      },
      "source": [
        "26. Sum of First n Positives\n",
        "\n",
        "Write a Python program to sum the first n positive integers."
      ]
    },
    {
      "cell_type": "code",
      "execution_count": null,
      "metadata": {
        "colab": {
          "base_uri": "https://localhost:8080/"
        },
        "id": "k903DpPRpdGt",
        "outputId": "81e3634d-c9e7-4728-c6b5-92b4e4bdbc88"
      },
      "outputs": [
        {
          "name": "stdout",
          "output_type": "stream",
          "text": [
            "Enter a positive integer n: 100\n",
            "Sum of first 100 positive integers is: 5050\n"
          ]
        }
      ],
      "source": [
        "# Input n from user\n",
        "n = int(input(\"Enter a positive integer n: \"))\n",
        "\n",
        "# Calculate the sum using formula: n*(n+1)/2\n",
        "sum_n = n * (n + 1) // 2\n",
        "\n",
        "# Display the result\n",
        "print(\"Sum of first\", n, \"positive integers is:\", sum_n)"
      ]
    },
    {
      "cell_type": "markdown",
      "metadata": {
        "id": "eBn8D73d4jQk"
      },
      "source": [
        "27. Height to Centimeters\n",
        "\n",
        "Write a Python program to convert height (in feet and inches) to centimeters."
      ]
    },
    {
      "cell_type": "code",
      "execution_count": null,
      "metadata": {
        "colab": {
          "base_uri": "https://localhost:8080/"
        },
        "id": "Lp8ELw5B4izj",
        "outputId": "59509547-792b-4ae9-8810-672ce5196689"
      },
      "outputs": [
        {
          "name": "stdout",
          "output_type": "stream",
          "text": [
            "Enter feet: 5\n",
            "Enter inches: 7\n",
            "Height in centimeters: 170.18 cm\n"
          ]
        }
      ],
      "source": [
        "# Input height in feet and inches from user\n",
        "feet = int(input(\"Enter feet: \"))\n",
        "inches = int(input(\"Enter inches: \"))\n",
        "\n",
        "# Convert height to centimeters\n",
        "total_cm = (feet * 12 + inches) * 2.54\n",
        "\n",
        "# Display the result\n",
        "print(f\"Height in centimeters: {total_cm} cm\")"
      ]
    },
    {
      "cell_type": "markdown",
      "metadata": {
        "id": "ALk1XnrN45z8"
      },
      "source": [
        "28.Feet to Other Units\n",
        "\n",
        "Write a Python program to convert the distance (in feet) to inches, yards, and miles."
      ]
    },
    {
      "cell_type": "code",
      "execution_count": null,
      "metadata": {
        "colab": {
          "base_uri": "https://localhost:8080/"
        },
        "id": "vAliBpCg4Rz-",
        "outputId": "5c13892e-5c24-496c-c78b-591d106ca060"
      },
      "outputs": [
        {
          "name": "stdout",
          "output_type": "stream",
          "text": [
            "Enter distance in feet: 5000\n",
            "5000.0 feet is equal to:\n",
            "60000.0 inches\n",
            "1666.6666666666667 yards\n",
            "0.946969696969697 miles\n"
          ]
        }
      ],
      "source": [
        "# Input distance in feet from user\n",
        "feet = float(input(\"Enter distance in feet: \"))\n",
        "\n",
        "# Conversion calculations\n",
        "inches = feet * 12\n",
        "yards = feet / 3\n",
        "miles = feet / 5280\n",
        "\n",
        "# Display the results\n",
        "print(f\"{feet} feet is equal to:\")\n",
        "print(f\"{inches} inches\")\n",
        "print(f\"{yards} yards\")\n",
        "print(f\"{miles} miles\")"
      ]
    },
    {
      "cell_type": "markdown",
      "metadata": {
        "id": "oHONvfrC5TdM"
      },
      "source": [
        "29. Time to Seconds Converter\n",
        "\n",
        "Write a Python program to convert all units of time into seconds."
      ]
    },
    {
      "cell_type": "code",
      "execution_count": null,
      "metadata": {
        "colab": {
          "base_uri": "https://localhost:8080/"
        },
        "id": "LEuhP2ko4Rw8",
        "outputId": "c88d9112-25d7-4592-a07c-87ae6c73f2c5"
      },
      "outputs": [
        {
          "name": "stdout",
          "output_type": "stream",
          "text": [
            "Enter hours: 120\n",
            "Enter minutes: 0\n",
            "Enter seconds: 0\n",
            "Total time in seconds: 432000 seconds\n"
          ]
        }
      ],
      "source": [
        "# Input hours, minutes, and seconds from user\n",
        "hours = int(input(\"Enter hours: \"))\n",
        "minutes = int(input(\"Enter minutes: \"))\n",
        "seconds = int(input(\"Enter seconds: \"))\n",
        "\n",
        "# Convert total time to seconds\n",
        "total_seconds = hours * 3600 + minutes * 60 + seconds\n",
        "\n",
        "# Display the result\n",
        "print(f\"Total time in seconds: {total_seconds} seconds\")"
      ]
    },
    {
      "cell_type": "markdown",
      "metadata": {
        "id": "zg0Prph65iTE"
      },
      "source": [
        "30. Absolute File Path Finder\n",
        "\n",
        "Write a Python program to get an absolute file path."
      ]
    },
    {
      "cell_type": "code",
      "execution_count": null,
      "metadata": {
        "colab": {
          "base_uri": "https://localhost:8080/"
        },
        "id": "soZzTNog4RuD",
        "outputId": "7f22df9c-f92f-4a72-cfad-61413eec6f8c"
      },
      "outputs": [
        {
          "name": "stdout",
          "output_type": "stream",
          "text": [
            "Enter the file path: gitdemo\n",
            "Absolute file path: /content/gitdemo\n"
          ]
        }
      ],
      "source": [
        "import os\n",
        "\n",
        "# Input relative file path from user\n",
        "file_path = input(\"Enter the file path: \")\n",
        "\n",
        "# Get absolute path\n",
        "absolute_path = os.path.abspath(file_path)\n",
        "\n",
        "# Display the result\n",
        "print(\"Absolute file path:\", absolute_path)"
      ]
    },
    {
      "cell_type": "markdown",
      "metadata": {
        "id": "9x3Digtw6O0c"
      },
      "source": [
        "31.Sum of Digits\n",
        "\n",
        "Write a Python program to calculate sum of digits of a number."
      ]
    },
    {
      "cell_type": "code",
      "execution_count": null,
      "metadata": {
        "colab": {
          "base_uri": "https://localhost:8080/"
        },
        "id": "pHQ895nf4RrU",
        "outputId": "7c8deb5a-97b6-452d-86b8-10482d116e6e"
      },
      "outputs": [
        {
          "name": "stdout",
          "output_type": "stream",
          "text": [
            "Enter a number: 100000\n",
            "Sum of digits: 1\n"
          ]
        }
      ],
      "source": [
        "# Input number from user\n",
        "num = int(input(\"Enter a number: \"))\n",
        "\n",
        "# Initialize sum\n",
        "sum_digits = 0\n",
        "\n",
        "# Calculate sum of digits\n",
        "temp = abs(num)  # handle negative numbers\n",
        "while temp > 0:\n",
        "    sum_digits += temp % 10\n",
        "    temp //= 10\n",
        "\n",
        "# Display the result\n",
        "print(\"Sum of digits:\", sum_digits)"
      ]
    },
    {
      "cell_type": "markdown",
      "metadata": {
        "id": "9ytG3B8v6l5s"
      },
      "source": [
        "32. Sort Three Numbers\n",
        "\n",
        "Write a Python program to sort three integers without using conditional statements and loops."
      ]
    },
    {
      "cell_type": "code",
      "execution_count": null,
      "metadata": {
        "colab": {
          "base_uri": "https://localhost:8080/"
        },
        "id": "rujV_ytl4Rmb",
        "outputId": "b97946cf-1486-4331-bbb5-a7e88d14def5"
      },
      "outputs": [
        {
          "name": "stdout",
          "output_type": "stream",
          "text": [
            "Enter first integer: 4\n",
            "Enter second integer: 2\n",
            "Enter third integer: 7\n",
            "Sorted numbers: [2, 4, 7]\n"
          ]
        }
      ],
      "source": [
        "# Input three integers from user\n",
        "a = int(input(\"Enter first integer: \"))\n",
        "b = int(input(\"Enter second integer: \"))\n",
        "c = int(input(\"Enter third integer: \"))\n",
        "\n",
        "# Create a list and sort it\n",
        "numbers = [a, b, c]\n",
        "numbers.sort()  # using built-in sort function\n",
        "\n",
        "# Display the sorted numbers\n",
        "print(\"Sorted numbers:\", numbers)"
      ]
    },
    {
      "cell_type": "markdown",
      "metadata": {
        "id": "SmZqK8Ct67qD"
      },
      "source": [
        "33. Copyright Information\n",
        "\n",
        "Write a Python program to get the copyright information and write Copyright information in Python code."
      ]
    },
    {
      "cell_type": "code",
      "execution_count": null,
      "metadata": {
        "colab": {
          "base_uri": "https://localhost:8080/"
        },
        "id": "ztzlZans4RjV",
        "outputId": "54210532-983c-4d46-e461-52206dc815c8"
      },
      "outputs": [
        {
          "name": "stdout",
          "output_type": "stream",
          "text": [
            "Python Copyright Information:\n",
            "Copyright (c) 2001-2023 Python Software Foundation.\n",
            "All Rights Reserved.\n",
            "\n",
            "Copyright (c) 2000 BeOpen.com.\n",
            "All Rights Reserved.\n",
            "\n",
            "Copyright (c) 1995-2001 Corporation for National Research Initiatives.\n",
            "All Rights Reserved.\n",
            "\n",
            "Copyright (c) 1991-1995 Stichting Mathematisch Centrum, Amsterdam.\n",
            "All Rights Reserved.\n"
          ]
        }
      ],
      "source": [
        "import sys\n",
        "\n",
        "# Get Python copyright information\n",
        "copyright_info = sys.copyright\n",
        "\n",
        "# Display the copyright information\n",
        "print(\"Python Copyright Information:\")\n",
        "print(copyright_info)"
      ]
    },
    {
      "cell_type": "markdown",
      "metadata": {
        "id": "P07nDCbo7PxJ"
      },
      "source": [
        " 34.Sum of Container Items\n",
        "\n",
        "Write a Python program to calculate the sum of all items of a container (tuple, list, set, dictionary)."
      ]
    },
    {
      "cell_type": "code",
      "execution_count": null,
      "metadata": {
        "colab": {
          "base_uri": "https://localhost:8080/"
        },
        "id": "ZBUm0Vq44Rgc",
        "outputId": "8566be1b-8956-432a-9441-5db7ae901ae5"
      },
      "outputs": [
        {
          "name": "stdout",
          "output_type": "stream",
          "text": [
            "Sum of list items: 10\n",
            "Sum of tuple items: 18\n",
            "Sum of set items: 27\n",
            "Sum of dictionary values: 6\n"
          ]
        }
      ],
      "source": [
        "# Example containers\n",
        "my_list = [1, 2, 3, 4]\n",
        "my_tuple = (5, 6, 7)\n",
        "my_set = {8, 9, 10}\n",
        "my_dict = {'a': 1, 'b': 2, 'c': 3}  # sum values\n",
        "\n",
        "# Calculate sums\n",
        "sum_list = sum(my_list)\n",
        "sum_tuple = sum(my_tuple)\n",
        "sum_set = sum(my_set)\n",
        "sum_dict = sum(my_dict.values())\n",
        "\n",
        "# Display results\n",
        "print(\"Sum of list items:\", sum_list)\n",
        "print(\"Sum of tuple items:\", sum_tuple)\n",
        "print(\"Sum of set items:\", sum_set)\n",
        "print(\"Sum of dictionary values:\", sum_dict)"
      ]
    },
    {
      "cell_type": "markdown",
      "metadata": {
        "id": "BMnI1Qct7nF1"
      },
      "source": [
        "35. Sum Expression Printer\n",
        "\n",
        "Given variables x=30 and y=20, write a Python program to print \"30+20=50\"."
      ]
    },
    {
      "cell_type": "code",
      "execution_count": null,
      "metadata": {
        "colab": {
          "base_uri": "https://localhost:8080/"
        },
        "id": "tuqaxKNV7epu",
        "outputId": "05906e6a-c87d-4829-988f-7e2d959848ac"
      },
      "outputs": [
        {
          "name": "stdout",
          "output_type": "stream",
          "text": [
            "30+20=50\n"
          ]
        }
      ],
      "source": [
        "\n",
        "# Define variables\n",
        "x = 30\n",
        "y = 20\n",
        "\n",
        "# Calculate sum\n",
        "sum_xy = x + y\n",
        "\n",
        "# Display the expression\n",
        "print(f\"{x}+{y}={sum_xy}\")"
      ]
    },
    {
      "cell_type": "markdown",
      "metadata": {
        "id": "2vh1KEHf71XU"
      },
      "source": [
        "36. Conditional Action\n",
        "\n",
        "Write a Python program to perform an action if a condition is true.\n",
        "Given a variable name, if the value is 1, display the string \"First day of a Month!\" and do nothing if the value is not equal."
      ]
    },
    {
      "cell_type": "code",
      "execution_count": null,
      "metadata": {
        "colab": {
          "base_uri": "https://localhost:8080/"
        },
        "id": "fHHTXxaN7emr",
        "outputId": "ff1b317d-e0a4-4c4d-f625-ecbc3a3f6dd6"
      },
      "outputs": [
        {
          "name": "stdout",
          "output_type": "stream",
          "text": [
            "Enter the day number: 1\n",
            "First day of a Month!\n"
          ]
        }
      ],
      "source": [
        "# Define variable\n",
        "day = int(input(\"Enter the day number: \"))\n",
        "\n",
        "# Check condition\n",
        "if day == 1:\n",
        "    print(\"First day of a Month!\")"
      ]
    },
    {
      "cell_type": "markdown",
      "metadata": {
        "id": "eoP1HSnD8l_d"
      },
      "source": [
        "37. String Memory Location Test\n",
        "\n",
        "Write a Python program to prove that two string variables of the same value point to the same memory location."
      ]
    },
    {
      "cell_type": "code",
      "execution_count": null,
      "metadata": {
        "colab": {
          "base_uri": "https://localhost:8080/"
        },
        "id": "GQ6RfnTs7ejs",
        "outputId": "79f89821-d039-4da3-e4e5-86d780313ada"
      },
      "outputs": [
        {
          "name": "stdout",
          "output_type": "stream",
          "text": [
            "Memory location of str1: 10690016\n",
            "Memory location of str2: 10690016\n",
            "Both strings point to the same memory location.\n"
          ]
        }
      ],
      "source": [
        "# Define two string variables with the same value\n",
        "str1 = \"Python\"\n",
        "str2 = \"Python\"\n",
        "\n",
        "# Compare memory locations using id()\n",
        "print(\"Memory location of str1:\", id(str1))\n",
        "print(\"Memory location of str2:\", id(str2))\n",
        "\n",
        "# Check if they point to the same memory location\n",
        "if id(str1) == id(str2):\n",
        "    print(\"Both strings point to the same memory location.\")\n",
        "else:\n",
        "    print(\"Strings point to different memory locations.\")"
      ]
    },
    {
      "cell_type": "markdown",
      "metadata": {
        "id": "M9aZXCEL83-r"
      },
      "source": [
        "38. Round Float to Decimals\n",
        "\n",
        "Write a Python program to round a floating-point number to a specified number of decimal places."
      ]
    },
    {
      "cell_type": "code",
      "execution_count": null,
      "metadata": {
        "colab": {
          "base_uri": "https://localhost:8080/"
        },
        "id": "jZSxLGaa7eg8",
        "outputId": "043ceb9b-6b49-4bac-863a-b76322ff095d"
      },
      "outputs": [
        {
          "name": "stdout",
          "output_type": "stream",
          "text": [
            "Enter a floating-point number: 3.23232323\n",
            "Enter number of decimal places: 3\n",
            "Number after rounding to 3 decimal places: 3.232\n"
          ]
        }
      ],
      "source": [
        "# Input float number from user\n",
        "num = float(input(\"Enter a floating-point number: \"))\n",
        "\n",
        "# Input number of decimal places\n",
        "decimals = int(input(\"Enter number of decimal places: \"))\n",
        "\n",
        "# Round the number\n",
        "rounded_num = round(num, decimals)\n",
        "\n",
        "# Display the result\n",
        "print(f\"Number after rounding to {decimals} decimal places: {rounded_num}\")"
      ]
    },
    {
      "cell_type": "markdown",
      "metadata": {
        "id": "gxfjkby49IY1"
      },
      "source": [
        "39. Max and Min of Number Types\n",
        "\n",
        "Write a Python program to determine the largest and smallest integers, longs, and floats."
      ]
    },
    {
      "cell_type": "code",
      "execution_count": null,
      "metadata": {
        "colab": {
          "base_uri": "https://localhost:8080/"
        },
        "id": "dmyXFEbO7eeC",
        "outputId": "b571c81d-f9a2-49f0-afe5-883e36ae2d9e"
      },
      "outputs": [
        {
          "name": "stdout",
          "output_type": "stream",
          "text": [
            "Largest integer: 9223372036854775807\n",
            "Smallest integer: -9223372036854775808\n",
            "Largest float: 1.7976931348623157e+308\n",
            "Smallest positive float: 2.2250738585072014e-308\n"
          ]
        }
      ],
      "source": [
        "import sys\n",
        "\n",
        "# Maximum and minimum integers (practical in Python, as Python int is unbounded)\n",
        "# Using sys.maxsize for largest practical integer\n",
        "max_int = sys.maxsize\n",
        "min_int = -sys.maxsize - 1\n",
        "\n",
        "# Maximum and minimum floats\n",
        "max_float = sys.float_info.max\n",
        "min_float = sys.float_info.min  # smallest positive float\n",
        "\n",
        "# Display results\n",
        "print(\"Largest integer:\", max_int)\n",
        "print(\"Smallest integer:\", min_int)\n",
        "print(\"Largest float:\", max_float)\n",
        "print(\"Smallest positive float:\", min_float)"
      ]
    },
    {
      "cell_type": "markdown",
      "metadata": {
        "id": "aEwbvg4x9dC9"
      },
      "source": [
        "40. Check List, Tuple, or Set\n",
        "\n",
        "Write a Python program to test if a variable is a list, tuple, or set."
      ]
    },
    {
      "cell_type": "code",
      "execution_count": null,
      "metadata": {
        "colab": {
          "base_uri": "https://localhost:8080/"
        },
        "id": "uMDDc0p57ebF",
        "outputId": "c9e757ff-b0f4-474a-8127-2743a5a7996f"
      },
      "outputs": [
        {
          "name": "stdout",
          "output_type": "stream",
          "text": [
            "Enter a variable (list, tuple, or set): (1,2,3,45)\n",
            "The variable is a tuple.\n"
          ]
        }
      ],
      "source": [
        "# Input from user: example variable\n",
        "var = eval(input(\"Enter a variable (list, tuple, or set): \"))\n",
        "\n",
        "# Check type and display\n",
        "if isinstance(var, list):\n",
        "    print(\"The variable is a list.\")\n",
        "elif isinstance(var, tuple):\n",
        "    print(\"The variable is a tuple.\")\n",
        "elif isinstance(var, set):\n",
        "    print(\"The variable is a set.\")\n",
        "else:\n",
        "    print(\"The variable is not a list, tuple, or set.\")"
      ]
    },
    {
      "cell_type": "markdown",
      "metadata": {
        "id": "SMt5_KRtuVPC"
      },
      "source": [
        "41. Positive, Negative, or Zero: Write a Python program that takes\n",
        " a number as input and prints whether it is positive, negative, or zero."
      ]
    },
    {
      "cell_type": "code",
      "execution_count": null,
      "metadata": {
        "colab": {
          "base_uri": "https://localhost:8080/"
        },
        "id": "vDSpDoh8uPtz",
        "outputId": "56589f9c-1d3e-40e4-9b73-26356b563f39"
      },
      "outputs": [
        {
          "name": "stdout",
          "output_type": "stream",
          "text": [
            "Enter a number: 0\n",
            "The number is Zero.\n"
          ]
        }
      ],
      "source": [
        "# Taking input from user\n",
        "num = float(input(\"Enter a number: \"))\n",
        "\n",
        "# Checking conditions\n",
        "if num > 0:\n",
        "    print(\"The number is Positive.\")\n",
        "elif num < 0:\n",
        "    print(\"The number is Negative.\")\n",
        "else:\n",
        "    print(\"The number is Zero.\")"
      ]
    },
    {
      "cell_type": "markdown",
      "metadata": {
        "id": "LclIfrGJvXIh"
      },
      "source": [
        "42.  Largest of Three Numbers: Write a Python program that takes three numbers as input and prints the largest among them."
      ]
    },
    {
      "cell_type": "code",
      "execution_count": null,
      "metadata": {
        "colab": {
          "base_uri": "https://localhost:8080/"
        },
        "id": "_fV8ggc5uPqs",
        "outputId": "ac83d42e-6a66-4704-98d9-b7ba541d5198"
      },
      "outputs": [
        {
          "name": "stdout",
          "output_type": "stream",
          "text": [
            "Enter first number: 10\n",
            "Enter second number: 9\n",
            "Enter third number: 13\n",
            "The largest number is: 13.0\n"
          ]
        }
      ],
      "source": [
        "# Program to find the largest among three numbers\n",
        "\n",
        "# Taking input from user\n",
        "a = float(input(\"Enter first number: \"))\n",
        "b = float(input(\"Enter second number: \"))\n",
        "c = float(input(\"Enter third number: \"))\n",
        "\n",
        "# Checking the largest number\n",
        "if a >= b and a >= c:\n",
        "    print(\"The largest number is:\", a)\n",
        "elif b >= a and b >= c:\n",
        "    print(\"The largest number is:\", b)\n",
        "else:\n",
        "    print(\"The largest number is:\", c)\n"
      ]
    },
    {
      "cell_type": "markdown",
      "metadata": {
        "id": "0S5tNu2cvxYS"
      },
      "source": [
        "43. Grades Classification: Write a Python program that takes a student’s percentage as input and prints their corresponding grade according to the following criteria: – 90% or above: A+ – 80-89%: A – 70-79%: B – 60-69%: C – Below 60%: Fail"
      ]
    },
    {
      "cell_type": "code",
      "execution_count": null,
      "metadata": {
        "colab": {
          "base_uri": "https://localhost:8080/"
        },
        "id": "eKtSleoyuPng",
        "outputId": "f88a4f10-1259-4353-898c-34f1d95d621c"
      },
      "outputs": [
        {
          "name": "stdout",
          "output_type": "stream",
          "text": [
            "Enter student's percentage: 90\n",
            "Grade: A+\n"
          ]
        }
      ],
      "source": [
        "# Taking input from user\n",
        "percentage = float(input(\"Enter student's percentage: \"))\n",
        "\n",
        "# Checking grade according to criteria\n",
        "if percentage >= 90:\n",
        "    print(\"Grade: A+\")\n",
        "elif percentage >= 80:\n",
        "    print(\"Grade: A\")\n",
        "elif percentage >= 70:\n",
        "    print(\"Grade: B\")\n",
        "elif percentage >= 60:\n",
        "    print(\"Grade: C\")\n",
        "else:\n",
        "    print(\"Grade: Fail\")"
      ]
    },
    {
      "cell_type": "markdown",
      "metadata": {
        "id": "BYJ3-e0rwD-w"
      },
      "source": [
        "44. Vowel or Consonant: Write a Python program that takes a single character as input and determines whether it is a vowel or a consonant."
      ]
    },
    {
      "cell_type": "code",
      "execution_count": null,
      "metadata": {
        "colab": {
          "base_uri": "https://localhost:8080/"
        },
        "id": "3D9LYQjDuPki",
        "outputId": "186dd9be-e369-40f3-b417-f6623ed03e47"
      },
      "outputs": [
        {
          "name": "stdout",
          "output_type": "stream",
          "text": [
            "Enter a single character: r\n",
            "The character is a Consonant.\n"
          ]
        }
      ],
      "source": [
        "# Taking input from user\n",
        "ch = input(\"Enter a single character: \")\n",
        "\n",
        "# Checking validity (must be an alphabet and single char)\n",
        "if len(ch) == 1 and ch.isalpha():\n",
        "    if ch.lower() in ['a', 'e', 'i', 'o', 'u']:\n",
        "        print(\"The character is a Vowel.\")\n",
        "    else:\n",
        "        print(\"The character is a Consonant.\")\n",
        "else:\n",
        "    print(\"Invalid input! Please enter a single alphabet.\")"
      ]
    },
    {
      "cell_type": "markdown",
      "metadata": {
        "id": "P2Mpc7y0wm0I"
      },
      "source": [
        "44. Time Classification: Write a Python program that takes the time in hours (24-hour format) as input and prints “Good Morning”, “Good Afternoon”, “Good Evening”, or “Good Night” based on the time."
      ]
    },
    {
      "cell_type": "code",
      "execution_count": null,
      "metadata": {
        "colab": {
          "base_uri": "https://localhost:8080/"
        },
        "id": "4afWFxSfwDML",
        "outputId": "cab33382-d0ee-456f-887d-535d69275279"
      },
      "outputs": [
        {
          "name": "stdout",
          "output_type": "stream",
          "text": [
            "Enter the time in hours (0-23): 5\n",
            "Good Morning\n"
          ]
        }
      ],
      "source": [
        "# Program for Time Classification\n",
        "\n",
        "# Taking time in hours (24-hour format)\n",
        "hour = int(input(\"Enter the time in hours (0-23): \"))\n",
        "\n",
        "# Checking time and printing greeting\n",
        "if 5 <= hour < 12:\n",
        "    print(\"Good Morning\")\n",
        "elif 12 <= hour < 17:\n",
        "    print(\"Good Afternoon\")\n",
        "elif 17 <= hour < 21:\n",
        "    print(\"Good Evening\")\n",
        "elif (21 <= hour <= 23) or (0 <= hour < 5):\n",
        "    print(\"Good Night\")\n",
        "else:\n",
        "    print(\"Invalid hour! Please enter a value between 0 and 23.\")\n"
      ]
    },
    {
      "cell_type": "markdown",
      "metadata": {
        "id": "XSDPYlqqxhD5"
      },
      "source": [
        "45.Sum of N Numbers: Write a Python program using a for loop to calculate the sum of the first N natural numbers, where N is taken as input from the user."
      ]
    },
    {
      "cell_type": "code",
      "execution_count": null,
      "metadata": {
        "colab": {
          "base_uri": "https://localhost:8080/"
        },
        "id": "pWIrqjZdwDJj",
        "outputId": "447ec147-5bcc-461c-c4f6-c6ab86742193"
      },
      "outputs": [
        {
          "name": "stdout",
          "output_type": "stream",
          "text": [
            "Enter a number (N): 6\n",
            "The sum of first 6 natural numbers is: 21\n"
          ]
        }
      ],
      "source": [
        "# Taking input from user\n",
        "N = int(input(\"Enter a number (N): \"))\n",
        "\n",
        "# Initialize sum\n",
        "total = 0\n",
        "\n",
        "# Using for loop to calculate sum\n",
        "for i in range(1, N + 1):\n",
        "    total += i\n",
        "\n",
        "# Printing result\n",
        "print(\"The sum of first\", N, \"natural numbers is:\", total)"
      ]
    },
    {
      "cell_type": "markdown",
      "metadata": {
        "id": "LNzSLrfOzXZw"
      },
      "source": [
        "46. Factorial Calculator: Write a Python program using a while loop to calculate the factorial of a given number N."
      ]
    },
    {
      "cell_type": "code",
      "execution_count": null,
      "metadata": {
        "colab": {
          "base_uri": "https://localhost:8080/"
        },
        "id": "2TqgFVJQwDHC",
        "outputId": "f06aabab-4482-428c-be4f-0e54add05708"
      },
      "outputs": [
        {
          "name": "stdout",
          "output_type": "stream",
          "text": [
            "Enter a number: 10\n",
            "Factorial of 10 is: 3628800\n"
          ]
        }
      ],
      "source": [
        "N = int(input(\"Enter a number: \"))\n",
        "\n",
        "# Initialize result\n",
        "factorial = 1\n",
        "\n",
        "# Initialize counter\n",
        "i = 1\n",
        "\n",
        "# While loop to calculate factorial\n",
        "while i <= N:\n",
        "    factorial *= i\n",
        "    i += 1\n",
        "\n",
        "# Printing result\n",
        "print(\"Factorial of\", N, \"is:\", factorial)"
      ]
    },
    {
      "cell_type": "markdown",
      "metadata": {
        "id": "qjkq6Stpznzv"
      },
      "source": [
        "47. Table of a Number: Write a Python program using a for loop to print the multiplication table of a given number N."
      ]
    },
    {
      "cell_type": "code",
      "execution_count": null,
      "metadata": {
        "colab": {
          "base_uri": "https://localhost:8080/"
        },
        "id": "bTPD3NbnwDEX",
        "outputId": "64b8abbb-fd7e-4b8e-a5f8-4128bfa79981"
      },
      "outputs": [
        {
          "name": "stdout",
          "output_type": "stream",
          "text": [
            "Enter a number: 6\n",
            "Multiplication Table of 6\n",
            "6 x 1 = 6\n",
            "6 x 2 = 12\n",
            "6 x 3 = 18\n",
            "6 x 4 = 24\n",
            "6 x 5 = 30\n",
            "6 x 6 = 36\n",
            "6 x 7 = 42\n",
            "6 x 8 = 48\n",
            "6 x 9 = 54\n",
            "6 x 10 = 60\n"
          ]
        }
      ],
      "source": [
        "# Taking input from user\n",
        "N = int(input(\"Enter a number: \"))\n",
        "\n",
        "# Printing multiplication table\n",
        "print(\"Multiplication Table of\", N)\n",
        "for i in range(1, 11):\n",
        "    print(N, \"x\", i, \"=\", N * i)\n"
      ]
    },
    {
      "cell_type": "markdown",
      "metadata": {
        "id": "DbruziT_z385"
      },
      "source": [
        "48. Count Digits in a Number: Write a Python program using a while loop to count the number of digits in a given integer N."
      ]
    },
    {
      "cell_type": "code",
      "execution_count": null,
      "metadata": {
        "colab": {
          "base_uri": "https://localhost:8080/"
        },
        "id": "6SBQbTwpwDAs",
        "outputId": "567cb5f3-c4b8-41c6-b2a8-48649464745a"
      },
      "outputs": [
        {
          "name": "stdout",
          "output_type": "stream",
          "text": [
            "Enter an integer: 122123324342312323\n",
            "Number of digits in 122123324342312323 is: 18\n"
          ]
        }
      ],
      "source": [
        "# Taking input from user\n",
        "N = int(input(\"Enter an integer: \"))\n",
        "\n",
        "# Handle negative numbers\n",
        "num = abs(N)\n",
        "\n",
        "# Initialize digit counter\n",
        "count = 0\n",
        "\n",
        "# While loop to count digits\n",
        "if num == 0:\n",
        "    count = 1  # 0 has 1 digit\n",
        "else:\n",
        "    while num > 0:\n",
        "        num //= 10\n",
        "        count += 1\n",
        "\n",
        "# Printing result\n",
        "print(\"Number of digits in\", N, \"is:\", count)"
      ]
    },
    {
      "cell_type": "markdown",
      "metadata": {
        "id": "1_fOD4SG0ZlH"
      },
      "source": [
        " 49. Print Patterns: Write a Python program using nested for loops to print various patterns, such as a right-angled triangle, an inverted right-angled triangle, and so on."
      ]
    },
    {
      "cell_type": "code",
      "execution_count": null,
      "metadata": {
        "colab": {
          "base_uri": "https://localhost:8080/"
        },
        "id": "NCefYt56wC90",
        "outputId": "4d897bd1-2fd7-466e-f338-31dcbff7594b"
      },
      "outputs": [
        {
          "name": "stdout",
          "output_type": "stream",
          "text": [
            "Enter the number of rows for patterns: 3\n",
            "\n",
            "1. Right-Angled Triangle\n",
            "*\n",
            "**\n",
            "***\n",
            "\n",
            "2. Inverted Right-Angled Triangle\n",
            "***\n",
            "**\n",
            "*\n",
            "\n",
            "3. Pyramid Pattern\n",
            "  *\n",
            " ***\n",
            "*****\n",
            "\n",
            "4. Inverted Pyramid Pattern\n",
            "*****\n",
            " ***\n",
            "  *\n"
          ]
        }
      ],
      "source": [
        "# Program to print different patterns using nested for loops\n",
        "\n",
        "N = int(input(\"Enter the number of rows for patterns: \"))\n",
        "\n",
        "print(\"\\n1. Right-Angled Triangle\")\n",
        "for i in range(1, N + 1):\n",
        "    print(\"*\" * i)\n",
        "\n",
        "print(\"\\n2. Inverted Right-Angled Triangle\")\n",
        "for i in range(N, 0, -1):\n",
        "    print(\"*\" * i)\n",
        "\n",
        "print(\"\\n3. Pyramid Pattern\")\n",
        "for i in range(1, N + 1):\n",
        "    print(\" \" * (N - i) + \"*\" * (2 * i - 1))\n",
        "\n",
        "print(\"\\n4. Inverted Pyramid Pattern\")\n",
        "for i in range(N, 0, -1):\n",
        "    print(\" \" * (N - i) + \"*\" * (2 * i - 1))"
      ]
    },
    {
      "cell_type": "code",
      "execution_count": null,
      "metadata": {
        "id": "_zC73di4wC7A"
      },
      "outputs": [],
      "source": []
    },
    {
      "cell_type": "code",
      "execution_count": null,
      "metadata": {
        "id": "-PIcjfDy0pgA"
      },
      "outputs": [],
      "source": []
    },
    {
      "cell_type": "markdown",
      "metadata": {
        "id": "y5ij0MKE16FI"
      },
      "source": [
        "50.  List Average: Write a Python program to calculate the average of all elements in a given list of integers."
      ]
    },
    {
      "cell_type": "code",
      "execution_count": null,
      "metadata": {
        "colab": {
          "base_uri": "https://localhost:8080/"
        },
        "id": "BkXKCkLh0pdZ",
        "outputId": "b2b4c59a-15af-4951-cc66-5c69afb7fe81"
      },
      "outputs": [
        {
          "name": "stdout",
          "output_type": "stream",
          "text": [
            "Enter integers separated by space: 1 2 3 4 5 6 7 8\n",
            "The average of the list is: 4.5\n"
          ]
        }
      ],
      "source": [
        "# Taking input from user\n",
        "numbers = input(\"Enter integers separated by space: \").split()\n",
        "numbers = [int(num) for num in numbers]  # Convert to integers\n",
        "\n",
        "# Calculating sum and average\n",
        "total = sum(numbers)\n",
        "average = total / len(numbers)\n",
        "\n",
        "# Printing result\n",
        "print(\"The average of the list is:\", average)"
      ]
    },
    {
      "cell_type": "code",
      "execution_count": null,
      "metadata": {
        "id": "-4wv9cnc0pYS"
      },
      "outputs": [],
      "source": []
    },
    {
      "cell_type": "markdown",
      "metadata": {
        "id": "YWEe6Vnp2oUI"
      },
      "source": [
        "51.  List Sorting: Write a Python program to sort a list of integers in ascending order."
      ]
    },
    {
      "cell_type": "code",
      "execution_count": null,
      "metadata": {
        "id": "npcyJwOswC4B"
      },
      "outputs": [],
      "source": []
    },
    {
      "cell_type": "code",
      "execution_count": null,
      "metadata": {
        "colab": {
          "base_uri": "https://localhost:8080/"
        },
        "id": "jx8BJY5s2q-s",
        "outputId": "b10d33d5-0abf-405f-961f-b35ead385bc1"
      },
      "outputs": [
        {
          "name": "stdout",
          "output_type": "stream",
          "text": [
            "Enter integers separated by space: 23 55 66 22 444 77 11 333 \n",
            "List in ascending order: [11, 22, 23, 55, 66, 77, 333, 444]\n"
          ]
        }
      ],
      "source": [
        "# Taking input from user\n",
        "numbers = input(\"Enter integers separated by space: \").split()\n",
        "numbers = [int(num) for num in numbers]  # Convert to integers\n",
        "\n",
        "# Sorting the list\n",
        "numbers.sort()  # Ascending order\n",
        "\n",
        "# Printing result\n",
        "print(\"List in ascending order:\", numbers)"
      ]
    },
    {
      "cell_type": "markdown",
      "metadata": {
        "id": "ghxvBGm229CR"
      },
      "source": [
        "52. List Filtering: Given a list of integers, write a Python program to create a new list that contains only the even numbers from the original list."
      ]
    },
    {
      "cell_type": "code",
      "execution_count": null,
      "metadata": {
        "colab": {
          "base_uri": "https://localhost:8080/"
        },
        "id": "QoCfikuG2q71",
        "outputId": "6fb3f283-6389-454b-8659-a204f78b0831"
      },
      "outputs": [
        {
          "name": "stdout",
          "output_type": "stream",
          "text": [
            "Enter integers separated by space: 33 55 67 66 11 22 333\n",
            "Even numbers in the list: [66, 22]\n"
          ]
        }
      ],
      "source": [
        "# Taking input from user\n",
        "numbers = input(\"Enter integers separated by space: \").split()\n",
        "numbers = [int(num) for num in numbers]  # Convert to integers\n",
        "\n",
        "# Filtering even numbers\n",
        "even_numbers = [num for num in numbers if num % 2 == 0]\n",
        "\n",
        "# Printing result\n",
        "print(\"Even numbers in the list:\", even_numbers)"
      ]
    },
    {
      "cell_type": "markdown",
      "metadata": {
        "id": "AJczYlTQ3JFQ"
      },
      "source": [
        "53. List Manipulation: Given two lists of integers, write a Python program to create a new list that contains elements common to both lists."
      ]
    },
    {
      "cell_type": "code",
      "execution_count": null,
      "metadata": {
        "colab": {
          "base_uri": "https://localhost:8080/"
        },
        "id": "c6PPiaGw2q4n",
        "outputId": "64a6572e-7493-4628-dea9-5da8171d3429"
      },
      "outputs": [
        {
          "name": "stdout",
          "output_type": "stream",
          "text": [
            "Enter integers for first list separated by space: 1 2 3 4 6 8 9\n",
            "Enter integers for second list separated by space: 1 2 3 44 55 66\n",
            "Common elements in both lists: [1, 2, 3]\n"
          ]
        }
      ],
      "source": [
        "# Taking input for first list\n",
        "list1 = input(\"Enter integers for first list separated by space: \").split()\n",
        "list1 = [int(num) for num in list1]\n",
        "\n",
        "# Taking input for second list\n",
        "list2 = input(\"Enter integers for second list separated by space: \").split()\n",
        "list2 = [int(num) for num in list2]\n",
        "\n",
        "# Finding common elements\n",
        "common_elements = [num for num in list1 if num in list2]\n",
        "\n",
        "# Printing result\n",
        "print(\"Common elements in both lists:\", common_elements)"
      ]
    },
    {
      "cell_type": "markdown",
      "metadata": {
        "id": "A7hzwBCp3juR"
      },
      "source": [
        "54. List Duplicates Removal: Write a Python program to remove duplicates from a given list while preserving the order of the elements."
      ]
    },
    {
      "cell_type": "code",
      "execution_count": null,
      "metadata": {
        "colab": {
          "base_uri": "https://localhost:8080/"
        },
        "id": "oDupTwyR2q1s",
        "outputId": "d60610f2-233e-4e74-f51a-f6ceb2db72ff"
      },
      "outputs": [
        {
          "name": "stdout",
          "output_type": "stream",
          "text": [
            "Enter integers separated by space: 1 1 2 2 3 4 5 6 7 8\n",
            "List after removing duplicates: [1, 2, 3, 4, 5, 6, 7, 8]\n"
          ]
        }
      ],
      "source": [
        "# Taking input from user\n",
        "numbers = input(\"Enter integers separated by space: \").split()\n",
        "numbers = [int(num) for num in numbers]\n",
        "\n",
        "# Removing duplicates while preserving order\n",
        "unique_numbers = []\n",
        "for num in numbers:\n",
        "    if num not in unique_numbers:\n",
        "        unique_numbers.append(num)\n",
        "\n",
        "# Printing result\n",
        "print(\"List after removing duplicates:\", unique_numbers)"
      ]
    },
    {
      "cell_type": "markdown",
      "metadata": {
        "id": "1wLBxaiF4BNk"
      },
      "source": [
        "55. Tuple Sorting: Write a Python program to sort a tuple of integers in ascending order."
      ]
    },
    {
      "cell_type": "code",
      "execution_count": null,
      "metadata": {
        "colab": {
          "base_uri": "https://localhost:8080/"
        },
        "id": "hboAWLSU4CyY",
        "outputId": "800ea065-7a03-456d-99b4-f207c77cc3bf"
      },
      "outputs": [
        {
          "name": "stdout",
          "output_type": "stream",
          "text": [
            "Enter integers separated by space: 1 2 3 4 5 6 7\n",
            "Original tuple: (1, 2, 3, 4, 5, 6, 7)\n",
            "Sorted tuple: (1, 2, 3, 4, 5, 6, 7)\n"
          ]
        }
      ],
      "source": [
        "# Taking input from user\n",
        "numbers = input(\"Enter integers separated by space: \").split()\n",
        "numbers = tuple(int(num) for num in numbers)  # Create a tuple\n",
        "\n",
        "# Sorting the tuple (tuples are immutable, so convert to list first)\n",
        "sorted_numbers = tuple(sorted(numbers))\n",
        "\n",
        "# Printing result\n",
        "print(\"Original tuple:\", numbers)\n",
        "print(\"Sorted tuple:\", sorted_numbers)\n"
      ]
    },
    {
      "cell_type": "markdown",
      "metadata": {
        "id": "cMTpVlYp-Q-f"
      },
      "source": [
        "56.  List of Tuples Conversion: Given a nested list containing tuples of (x, y) coordinates, write a Python program to convert it into a list of x-coordinates and a list of y-coordinates."
      ]
    },
    {
      "cell_type": "code",
      "execution_count": null,
      "metadata": {
        "colab": {
          "base_uri": "https://localhost:8080/"
        },
        "id": "k7LsDVfU9pC0",
        "outputId": "3c56fb02-cdf0-49cf-d5de-3948a1e9e22e"
      },
      "outputs": [
        {
          "name": "stdout",
          "output_type": "stream",
          "text": [
            "Original list of tuples: [(1, 2), (3, 4), (5, 6), (7, 8)]\n",
            "List of x-coordinates: [1, 3, 5, 7]\n",
            "List of y-coordinates: [2, 4, 6, 8]\n"
          ]
        }
      ],
      "source": [
        "# Example input: nested list of tuples\n",
        "coordinates = [(1, 2), (3, 4), (5, 6), (7, 8)]\n",
        "\n",
        "# Creating separate lists using list comprehension\n",
        "x_coords = [x for (x, y) in coordinates]\n",
        "y_coords = [y for (x, y) in coordinates]\n",
        "\n",
        "# Printing results\n",
        "print(\"Original list of tuples:\", coordinates)\n",
        "print(\"List of x-coordinates:\", x_coords)\n",
        "print(\"List of y-coordinates:\", y_coords)"
      ]
    },
    {
      "cell_type": "markdown",
      "metadata": {
        "id": "CIXjkbws-ZgP"
      },
      "source": [
        "57. Odd Number Finder: Write a Python program to find the first odd number from a list of integers. Use a `for` loop and `break` to stop the loop when the first odd number is found."
      ]
    },
    {
      "cell_type": "code",
      "execution_count": null,
      "metadata": {
        "colab": {
          "base_uri": "https://localhost:8080/"
        },
        "id": "_-g_X0q39o_W",
        "outputId": "f99b396d-1c1f-4f01-f7df-fbcbcea993ae"
      },
      "outputs": [
        {
          "name": "stdout",
          "output_type": "stream",
          "text": [
            "Enter integers separated by space: 2 5 7 8 9\n",
            "The first odd number in the list is: 5\n"
          ]
        }
      ],
      "source": [
        "# Taking input from user\n",
        "numbers = input(\"Enter integers separated by space: \").split()\n",
        "numbers = [int(num) for num in numbers]\n",
        "\n",
        "# Finding the first odd number\n",
        "first_odd = None\n",
        "for num in numbers:\n",
        "    if num % 2 != 0:\n",
        "        first_odd = num\n",
        "        break\n",
        "\n",
        "# Printing result\n",
        "if first_odd is not None:\n",
        "    print(\"The first odd number in the list is:\", first_odd)\n",
        "else:\n",
        "    print(\"No odd number found in the list.\")"
      ]
    },
    {
      "cell_type": "markdown",
      "metadata": {
        "id": "5EdzVDuy-4nw"
      },
      "source": [
        "58. Number Guessing Game: Write a Python program that generates a random number between 1 and 100 and lets the user guess the number. Use a `while` loop, `break` when the correct number is guessed, and `continue` to keep prompting the user until they guess correctly."
      ]
    },
    {
      "cell_type": "code",
      "execution_count": null,
      "metadata": {
        "colab": {
          "background_save": true,
          "base_uri": "https://localhost:8080/"
        },
        "id": "NcubJWRs9o8J",
        "outputId": "f19c18e6-980d-4d4c-ef4d-848c5a32e72b"
      },
      "outputs": [
        {
          "name": "stdout",
          "output_type": "stream",
          "text": [
            "Welcome to the Number Guessing Game!\n",
            "I have selected a number between 1 and 100. Try to guess it!\n",
            "Too low! Try again.\n",
            "Too low! Try again.\n",
            "Too low! Try again.\n",
            "Too low! Try again.\n",
            "Too low! Try again.\n",
            "Invalid input! Please enter a number between 1 and 100.\n",
            "Invalid input! Please enter a number between 1 and 100.\n",
            "Too low! Try again.\n",
            "Too low! Try again.\n",
            "Too high! Try again.\n",
            "Too high! Try again.\n",
            "Too low! Try again.\n",
            "Too low! Try again.\n",
            "Too low! Try again.\n"
          ]
        }
      ],
      "source": [
        "import random\n",
        "\n",
        "# Generate a random number between 1 and 100\n",
        "number_to_guess = random.randint(1, 100)\n",
        "\n",
        "print(\"Welcome to the Number Guessing Game!\")\n",
        "print(\"I have selected a number between 1 and 100. Try to guess it!\")\n",
        "\n",
        "while True:\n",
        "    # Take user input\n",
        "    guess = input(\"Enter your guess: \")\n",
        "\n",
        "    # Check if input is a valid integer\n",
        "    if not guess.isdigit():\n",
        "        print(\"Invalid input! Please enter a number between 1 and 100.\")\n",
        "        continue  # Ask again\n",
        "\n",
        "    guess = int(guess)\n",
        "\n",
        "    # Check the guess\n",
        "    if guess < number_to_guess:\n",
        "        print(\"Too low! Try again.\")\n",
        "    elif guess > number_to_guess:\n",
        "        print(\"Too high! Try again.\")\n",
        "    else:\n",
        "        print(\"Congratulations! You guessed the correct number:\", number_to_guess)\n",
        "        break  # Exit the loop6"
      ]
    },
    {
      "cell_type": "markdown",
      "metadata": {
        "id": "tJ93n-7l_NmZ"
      },
      "source": [
        "59. Math Operations: Write a Python function called `math_operations` that takes three numbers and a string representing an operation (‘add’, ‘subtract’, ‘multiply’, or ‘divide’). The function should return the result of the specified operation on the three numbers. Implement the math operations as nested functions."
      ]
    },
    {
      "cell_type": "code",
      "execution_count": null,
      "metadata": {
        "id": "MswDU79N9o48"
      },
      "outputs": [],
      "source": [
        "# Function with nested functions for math operations\n",
        "def math_operations(a, b, c, operation):\n",
        "\n",
        "    # Nested functions\n",
        "    def add(x, y, z):\n",
        "        return x + y + z\n",
        "\n",
        "    def subtract(x, y, z):\n",
        "        return x - y - z\n",
        "\n",
        "    def multiply(x, y, z):\n",
        "        return x * y * z\n",
        "\n",
        "    def divide(x, y, z):\n",
        "        if y == 0 or z == 0:\n",
        "            return \"Error! Division by zero.\"\n",
        "        return x / y / z\n",
        "\n",
        "    # Decide operation\n",
        "    if operation == 'add':\n",
        "        return add(a, b, c)\n",
        "    elif operation == 'subtract':\n",
        "        return subtract(a, b, c)\n",
        "    elif operation == 'multiply':\n",
        "        return multiply(a, b, c)\n",
        "    elif operation == 'divide':\n",
        "        return divide(a, b, c)\n",
        "    else:\n",
        "        return \"Invalid operation! Choose add, subtract, multiply, or divide.\"\n",
        "\n",
        "# Example usage\n",
        "result = math_operations(10, 5, 2, 'add')\n",
        "print(\"Result:\", result)\n",
        "\n",
        "result = math_operations(10, 5, 2, 'divide')\n",
        "print(\"Result:\", result)\n"
      ]
    },
    {
      "cell_type": "markdown",
      "metadata": {
        "id": "qUUnvWcU_f_-"
      },
      "source": [
        "60.  Binary Search: Write a recursive Python function called `binary_search` that takes a sorted list and a target value as input and returns the index of the target value in the list using binary search. If the target value is not in the list, return -1."
      ]
    },
    {
      "cell_type": "code",
      "execution_count": null,
      "metadata": {
        "id": "jcdwig5D_c5b"
      },
      "outputs": [],
      "source": [
        "# Recursive binary search function\n",
        "def binary_search(arr, target, low, high):\n",
        "    if low > high:\n",
        "        return -1  # Target not found\n",
        "\n",
        "    mid = (low + high) // 2\n",
        "\n",
        "    if arr[mid] == target:\n",
        "        return mid\n",
        "    elif arr[mid] > target:\n",
        "        return binary_search(arr, target, low, mid - 1)\n",
        "    else:\n",
        "        return binary_search(arr, target, mid + 1, high)\n",
        "\n",
        "# Example usage\n",
        "sorted_list = [1, 3, 5, 7, 9, 11, 13]\n",
        "target = 7\n",
        "\n",
        "index = binary_search(sorted_list, target, 0, len(sorted_list) - 1)\n",
        "\n",
        "if index != -1:\n",
        "    print(f\"Target {target} found at index {index}\")\n",
        "else:\n",
        "    print(f\"Target {target} not found in the list\")"
      ]
    },
    {
      "cell_type": "code",
      "execution_count": null,
      "metadata": {
        "id": "QmXSxRyG_c2S"
      },
      "outputs": [],
      "source": []
    },
    {
      "cell_type": "code",
      "execution_count": null,
      "metadata": {
        "id": "XNK0Byo9_czR"
      },
      "outputs": [],
      "source": []
    },
    {
      "cell_type": "code",
      "execution_count": null,
      "metadata": {
        "id": "inqThl4r_cwY"
      },
      "outputs": [],
      "source": []
    },
    {
      "cell_type": "code",
      "execution_count": null,
      "metadata": {
        "id": "ZStEraH7_csH"
      },
      "outputs": [],
      "source": []
    },
    {
      "cell_type": "code",
      "execution_count": null,
      "metadata": {
        "id": "QEoLt0ed_cox"
      },
      "outputs": [],
      "source": []
    },
    {
      "cell_type": "code",
      "execution_count": null,
      "metadata": {
        "id": "CgCs_IQo_clr"
      },
      "outputs": [],
      "source": []
    },
    {
      "cell_type": "code",
      "execution_count": null,
      "metadata": {
        "id": "Nb-lZ-Eu_cid"
      },
      "outputs": [],
      "source": []
    },
    {
      "cell_type": "code",
      "execution_count": null,
      "metadata": {
        "id": "Hdu3vA5T_cfe"
      },
      "outputs": [],
      "source": []
    },
    {
      "cell_type": "code",
      "execution_count": null,
      "metadata": {
        "id": "fMb0PkhR_ccN"
      },
      "outputs": [],
      "source": []
    },
    {
      "cell_type": "code",
      "execution_count": null,
      "metadata": {
        "id": "dkCV-JJ1_cY4"
      },
      "outputs": [],
      "source": []
    }
  ],
  "metadata": {
    "colab": {
      "provenance": []
    },
    "kernelspec": {
      "display_name": "Python 3",
      "name": "python3"
    },
    "language_info": {
      "name": "python"
    }
  },
  "nbformat": 4,
  "nbformat_minor": 0
}